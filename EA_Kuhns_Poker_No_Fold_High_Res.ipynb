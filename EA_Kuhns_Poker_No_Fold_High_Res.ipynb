{
 "cells": [
  {
   "cell_type": "code",
   "execution_count": 353,
   "metadata": {},
   "outputs": [],
   "source": [
    "import numpy as np\n",
    "import matplotlib.pyplot as plt\n",
    "import numba\n",
    "from numba import jit"
   ]
  },
  {
   "cell_type": "code",
   "execution_count": 377,
   "metadata": {},
   "outputs": [],
   "source": [
    "N_CARDS = 3\n",
    "RESOLUTION = 10\n",
    "N_ACTIONS = 2\n",
    "N_GAMES = 5000\n",
    "BET_SIZE = 1\n",
    "POPULATION_SIZE = 30\n",
    "TOURNAMENT_PROB = 0.7\n",
    "CROSSOVER_PROB = 0\n",
    "MUTATION_PROB = 0# 0.1/RESOLUTION\n",
    "CARDS = np.arange(N_CARDS)\n",
    "INDIVIDUALS = np.arange(POPULATION_SIZE)\n",
    "MAX_SCORE = N_GAMES*POPULATION_SIZE*POPULATION_SIZE*2\n",
    "DECODING_VECTOR =np.power(2*np.ones(RESOLUTION),-np.arange(1,RESOLUTION+1))"
   ]
  },
  {
   "cell_type": "markdown",
   "metadata": {},
   "source": [
    "<img src=\"kuhns_poker_no_fold.png\">"
   ]
  },
  {
   "cell_type": "code",
   "execution_count": 378,
   "metadata": {},
   "outputs": [],
   "source": [
    "@jit(nopython=True)\n",
    "def play(p1, p2):\n",
    "\n",
    "    p1_card, p2_card =  np.random.permutation(CARDS)[:2]\n",
    "    \n",
    "    p1_bets =  np.random.rand() < p1[p1_card,0,:]@DECODING_VECTOR\n",
    "   \n",
    "    \n",
    "    if(p1_bets):\n",
    "        p2_bets = np.random.rand() < p2[p2_card,0,:]@DECODING_VECTOR\n",
    "\n",
    "        if(p2_bets):\n",
    "            if(p1_card > p2_card):\n",
    "                return (2*BET_SIZE,-2*BET_SIZE)\n",
    "            else: \n",
    "                return (-2*BET_SIZE,2*BET_SIZE)\n",
    "        elif(not p2_bets):\n",
    "            return (BET_SIZE,-BET_SIZE)\n",
    "        \n",
    "    elif(not p1_bets):\n",
    "        p2_bets = np.random.rand() < p2[p2_card,1,:]@DECODING_VECTOR\n",
    "        \n",
    "        if(p2_bets):\n",
    "            p1_bets_again =  np.random.rand() < p1[p1_card,1,:]@DECODING_VECTOR\n",
    "            \n",
    "            if(p1_bets_again):\n",
    "                if(p1_card > p2_card):\n",
    "                    return (2*BET_SIZE,-2*BET_SIZE)\n",
    "                else: \n",
    "                    return (-2*BET_SIZE,2*BET_SIZE)\n",
    "            elif(not p1_bets_again):\n",
    "                return (-BET_SIZE,BET_SIZE)\n",
    "        \n",
    "        elif(not p2_bets):\n",
    "            if(p1_card > p2_card):\n",
    "                return (BET_SIZE,-BET_SIZE)\n",
    "            else: \n",
    "                return (-BET_SIZE,BET_SIZE)\n"
   ]
  },
  {
   "cell_type": "code",
   "execution_count": 379,
   "metadata": {},
   "outputs": [],
   "source": [
    "@jit(nopython=True)\n",
    "def evaluate(population_1, population_2):\n",
    " \n",
    "    fitness_1 = np.zeros(POPULATION_SIZE)\n",
    "    fitness_2 = np.zeros(POPULATION_SIZE) \n",
    "\n",
    "    for player in INDIVIDUALS:\n",
    "        for opponent in INDIVIDUALS:\n",
    "            for game in range(N_GAMES):\n",
    "                player_score, opponent_score = play(population_1[player], population_2[opponent])\n",
    "                fitness_1[player] += player_score\n",
    "                fitness_2[opponent] += opponent_score\n",
    "    \n",
    "    \n",
    "\n",
    "\n",
    "    return (fitness_1/(N_GAMES*POPULATION_SIZE), fitness_2/(N_GAMES*POPULATION_SIZE))"
   ]
  },
  {
   "cell_type": "code",
   "execution_count": 380,
   "metadata": {},
   "outputs": [],
   "source": [
    "@jit(nopython=True)\n",
    "def tournament_selection(population, fitness):\n",
    "    \n",
    "    p = np.random.permutation(POPULATION_SIZE)\n",
    "    \n",
    "    i1 = p[0]\n",
    "    i2 = p[1]\n",
    "    \n",
    "    if(fitness[i1] > fitness[i2]):\n",
    "        i_max = i1\n",
    "        i_min = i2\n",
    "    else:\n",
    "        i_max = i2\n",
    "        i_min = i1\n",
    "    \n",
    "    if(np.random.rand() < TOURNAMENT_PROB):\n",
    "        return i_max\n",
    "    else:\n",
    "        return i_min\n",
    "            \n",
    "def wheel_selection(population, fitness):\n",
    "    temp = fitness + np.min(fitness)\n",
    "    distribution = temp/np.sum(temp)\n",
    "    return np.random.choice(np.arange(POPULATION_SIZE), p= distribution)\n",
    "    "
   ]
  },
  {
   "cell_type": "code",
   "execution_count": 381,
   "metadata": {},
   "outputs": [],
   "source": [
    "@jit(nopython=True)\n",
    "def crossover(individual_1, individual_2):\n",
    "    \n",
    "    if(np.random.rand() < CROSSOVER_PROB):\n",
    "        child_1 = np.zeros_like(individual_1)\n",
    "        child_2 = np.zeros_like(individual_1)\n",
    "\n",
    "        for i in range(N_CARDS):\n",
    "            for j in range(N_ACTIONS):\n",
    "                cp = np.random.randint(RESOLUTION)\n",
    "                child_1[i,j,:] = np.concatenate((individual_1[i,j,:cp],individual_2[i,j,cp:]))\n",
    "                child_2[i,j,:] = np.concatenate((individual_2[i,j,:cp],individual_1[i,j,cp:]))\n",
    "\n",
    "        return(child_1, child_2)\n",
    "    else:\n",
    "        return(individual_1, individual_2)"
   ]
  },
  {
   "cell_type": "code",
   "execution_count": 382,
   "metadata": {},
   "outputs": [],
   "source": [
    "#@jit(nopython=True)\n",
    "def mutate(individual):\n",
    "    \n",
    "    mutated_genes = np.random.rand(N_CARDS, N_ACTIONS, RESOLUTION) < MUTATION_PROB\n",
    "    individual[mutated_genes] = 1-individual[mutated_genes]\n",
    "    \n",
    "\n",
    "    return individual"
   ]
  },
  {
   "cell_type": "code",
   "execution_count": 383,
   "metadata": {},
   "outputs": [],
   "source": [
    "def print_player(player):\n",
    "\n",
    "    print(\"Card \\t      a0 prob \\t      a2 prob\")\n",
    "    for card in range(N_CARDS):\n",
    "         print(\"  {:d}\\t|\\t{:.0f}%\\t|\\t{:.0f}%\".format(card, player[card,0,:]@DECODING_VECTOR*100, player[card,1,:]@DECODING_VECTOR*100))"
   ]
  },
  {
   "cell_type": "code",
   "execution_count": 384,
   "metadata": {},
   "outputs": [],
   "source": [
    "p1 = np.random.randint(0,2,size = (POPULATION_SIZE, N_CARDS, N_ACTIONS, RESOLUTION)).astype(np.float64)\n",
    "p2 = np.random.randint(0,2,size = (POPULATION_SIZE, N_CARDS, N_ACTIONS, RESOLUTION)).astype(np.float64)\n",
    "new_p1 = p1.copy()\n",
    "new_p2 = p2.copy()\n",
    "\n",
    "f1,f2 = evaluate(p1, p2)"
   ]
  },
  {
   "cell_type": "code",
   "execution_count": 385,
   "metadata": {
    "scrolled": false
   },
   "outputs": [
    {
     "name": "stdout",
     "output_type": "stream",
     "text": [
      "Generation:  0\n",
      "Fitness:  0.3538133333333333 0.13165333333333334\n",
      "---------------------------------------\n",
      "Generation:  10\n",
      "Fitness:  0.3499333333333333 0.13375333333333334\n",
      "---------------------------------------\n"
     ]
    },
    {
     "ename": "KeyboardInterrupt",
     "evalue": "",
     "output_type": "error",
     "traceback": [
      "\u001b[0;31m---------------------------------------------------------------------------\u001b[0m",
      "\u001b[0;31mKeyboardInterrupt\u001b[0m                         Traceback (most recent call last)",
      "\u001b[0;32m<ipython-input-385-13492f33c036>\u001b[0m in \u001b[0;36m<module>\u001b[0;34m()\u001b[0m\n\u001b[1;32m     46\u001b[0m             \u001b[0mp2\u001b[0m \u001b[0;34m=\u001b[0m \u001b[0mnew_p2\u001b[0m\u001b[0;34m.\u001b[0m\u001b[0mcopy\u001b[0m\u001b[0;34m(\u001b[0m\u001b[0;34m)\u001b[0m\u001b[0;34m\u001b[0m\u001b[0m\n\u001b[1;32m     47\u001b[0m     '''\n\u001b[0;32m---> 48\u001b[0;31m     \u001b[0mf1\u001b[0m\u001b[0;34m,\u001b[0m\u001b[0mf2\u001b[0m \u001b[0;34m=\u001b[0m \u001b[0mevaluate\u001b[0m\u001b[0;34m(\u001b[0m\u001b[0mp1\u001b[0m\u001b[0;34m,\u001b[0m\u001b[0mp2\u001b[0m\u001b[0;34m)\u001b[0m\u001b[0;34m\u001b[0m\u001b[0m\n\u001b[0m\u001b[1;32m     49\u001b[0m \u001b[0;34m\u001b[0m\u001b[0m\n\u001b[1;32m     50\u001b[0m \u001b[0;34m\u001b[0m\u001b[0m\n",
      "\u001b[0;31mKeyboardInterrupt\u001b[0m: "
     ]
    }
   ],
   "source": [
    "p1_turn = False\n",
    "for generation in range(10000):\n",
    "    \n",
    "    #if(generation % 200) : p1_turn = not p1_turn\n",
    "    '''\n",
    "    for i in range(0,POPULATION_SIZE,2):\n",
    "        if(p1_turn):\n",
    "            ind11 = tournament_selection(p1,f1)\n",
    "            ind12 = tournament_selection(p1,f1)\n",
    "            \n",
    "            child_11, child_12 = crossover(p1[ind11], p1[ind12])\n",
    "            \n",
    "            child_11 = mutate(child_11)\n",
    "            child_12 = mutate(child_12)\n",
    "            \n",
    "            new_p1[i] = child_11\n",
    "            new_p1[i+1] = child_12\n",
    "            \n",
    "            best_indivudal_1 = np.argmax(f1)\n",
    "            \n",
    "            new_p1[0] = p1[best_indivudal_1]\n",
    "            \n",
    "            p1 = new_p1.copy()\n",
    "        \n",
    "        else:\n",
    "            \n",
    "            ind21 = tournament_selection(p2,f2)\n",
    "            ind22 = tournament_selection(p2,f2)\n",
    "        \n",
    "        \n",
    "            child_21, child_22 = crossover(p2[ind21], p2[ind22])\n",
    "        \n",
    "        \n",
    "            child_21 = mutate(child_21)\n",
    "            child_22 = mutate(child_22)\n",
    "        \n",
    "        \n",
    "            new_p2[i] = child_21\n",
    "            new_p2[i+1] = child_22\n",
    "        \n",
    "    \n",
    "            best_indivudal_2 = np.argmax(f2)\n",
    "\n",
    "            new_p2[0] = p2[best_indivudal_2]\n",
    "\n",
    "            p2 = new_p2.copy()\n",
    "    '''\n",
    "    f1,f2 = evaluate(p1,p2)\n",
    "    \n",
    "    \n",
    "    if(generation % 10 == 0):\n",
    "        print(\"Generation: \", generation)\n",
    "        print(\"Fitness: \", np.max(f1), np.max(f2))\n",
    "        #print(\"Strategy player 1: \")\n",
    "        #print_player(p1[np.argmax(f1)])\n",
    "        #print(\"Strategy player 2: \")\n",
    "        #print_player(p2[np.argmax(f2)])\n",
    "        \n",
    "        print(\"---------------------------------------\")\n",
    "    \n"
   ]
  },
  {
   "cell_type": "markdown",
   "metadata": {},
   "source": [
    "## Best player 1 strategy"
   ]
  },
  {
   "cell_type": "code",
   "execution_count": null,
   "metadata": {},
   "outputs": [],
   "source": [
    "print_player(p1[np.argsort(f1)[-1]])"
   ]
  },
  {
   "cell_type": "markdown",
   "metadata": {},
   "source": [
    "## Best player 2 strategy"
   ]
  },
  {
   "cell_type": "code",
   "execution_count": 122,
   "metadata": {},
   "outputs": [
    {
     "name": "stdout",
     "output_type": "stream",
     "text": [
      "Card \t      a0 prob \t      a2 prob\n",
      "  0\t|\t86%\t|\t47%\n",
      "  1\t|\t95%\t|\t68%\n",
      "  2\t|\t42%\t|\t58%\n"
     ]
    }
   ],
   "source": [
    "print_player(p2[np.argsort(f2)[-1]])"
   ]
  },
  {
   "cell_type": "markdown",
   "metadata": {},
   "source": [
    "<img src=\"kuhns_poker_no_fold.png\">"
   ]
  },
  {
   "cell_type": "code",
   "execution_count": 75,
   "metadata": {},
   "outputs": [
    {
     "data": {
      "text/plain": [
       "array([[[[0.54098347, 0.64915783, 0.73632378, ..., 0.82139975,\n",
       "          0.87776996, 0.29976857],\n",
       "         [0.85861205, 0.01670313, 0.84070599, ..., 0.71473305,\n",
       "          0.88845362, 0.16734321]],\n",
       "\n",
       "        [[0.94745242, 0.35378947, 0.7730972 , ..., 0.99903171,\n",
       "          0.46024463, 0.75786959],\n",
       "         [0.52933596, 0.13541305, 0.60659418, ..., 0.17522498,\n",
       "          0.70446257, 0.44460968]],\n",
       "\n",
       "        [[0.19773398, 0.68503469, 0.03658238, ..., 0.5244156 ,\n",
       "          0.51371181, 0.8805567 ],\n",
       "         [0.55469052, 0.62652457, 0.13840244, ..., 0.98243021,\n",
       "          0.06388858, 0.42621035]]],\n",
       "\n",
       "\n",
       "       [[[0.45901653, 0.64915783, 0.73632378, ..., 0.82139975,\n",
       "          0.12223004, 0.29976857],\n",
       "         [0.14138795, 0.01670313, 0.84070599, ..., 0.71473305,\n",
       "          0.88845362, 0.83265679]],\n",
       "\n",
       "        [[0.05254758, 0.64621053, 0.7730972 , ..., 0.99903171,\n",
       "          0.53975537, 0.75786959],\n",
       "         [0.52933596, 0.86458695, 0.39340582, ..., 0.82477502,\n",
       "          0.70446257, 0.44460968]],\n",
       "\n",
       "        [[0.80226602, 0.68503469, 0.03658238, ..., 0.4755844 ,\n",
       "          0.51371181, 0.1194433 ],\n",
       "         [0.44530948, 0.62652457, 0.86159756, ..., 0.01756979,\n",
       "          0.06388858, 0.42621035]]],\n",
       "\n",
       "\n",
       "       [[[0.45901653, 0.35084217, 0.26367622, ..., 0.82139975,\n",
       "          0.87776996, 0.29976857],\n",
       "         [0.85861205, 0.01670313, 0.84070599, ..., 0.28526695,\n",
       "          0.11154638, 0.16734321]],\n",
       "\n",
       "        [[0.94745242, 0.64621053, 0.7730972 , ..., 0.99903171,\n",
       "          0.53975537, 0.24213041],\n",
       "         [0.47066404, 0.86458695, 0.39340582, ..., 0.82477502,\n",
       "          0.70446257, 0.44460968]],\n",
       "\n",
       "        [[0.80226602, 0.31496531, 0.03658238, ..., 0.4755844 ,\n",
       "          0.51371181, 0.1194433 ],\n",
       "         [0.44530948, 0.37347543, 0.13840244, ..., 0.01756979,\n",
       "          0.06388858, 0.42621035]]],\n",
       "\n",
       "\n",
       "       ...,\n",
       "\n",
       "\n",
       "       [[[0.54098347, 0.35084217, 0.26367622, ..., 0.82139975,\n",
       "          0.87776996, 0.29976857],\n",
       "         [0.85861205, 0.98329687, 0.15929401, ..., 0.71473305,\n",
       "          0.11154638, 0.16734321]],\n",
       "\n",
       "        [[0.94745242, 0.64621053, 0.7730972 , ..., 0.99903171,\n",
       "          0.53975537, 0.75786959],\n",
       "         [0.47066404, 0.13541305, 0.39340582, ..., 0.17522498,\n",
       "          0.70446257, 0.44460968]],\n",
       "\n",
       "        [[0.80226602, 0.31496531, 0.03658238, ..., 0.4755844 ,\n",
       "          0.48628819, 0.1194433 ],\n",
       "         [0.55469052, 0.62652457, 0.13840244, ..., 0.98243021,\n",
       "          0.93611142, 0.57378965]]],\n",
       "\n",
       "\n",
       "       [[[0.45901653, 0.35084217, 0.26367622, ..., 0.82139975,\n",
       "          0.87776996, 0.70023143],\n",
       "         [0.85861205, 0.01670313, 0.84070599, ..., 0.71473305,\n",
       "          0.11154638, 0.16734321]],\n",
       "\n",
       "        [[0.05254758, 0.64621053, 0.7730972 , ..., 0.99903171,\n",
       "          0.46024463, 0.24213041],\n",
       "         [0.52933596, 0.13541305, 0.39340582, ..., 0.17522498,\n",
       "          0.29553743, 0.55539032]],\n",
       "\n",
       "        [[0.80226602, 0.68503469, 0.03658238, ..., 0.4755844 ,\n",
       "          0.48628819, 0.1194433 ],\n",
       "         [0.44530948, 0.62652457, 0.13840244, ..., 0.98243021,\n",
       "          0.06388858, 0.42621035]]],\n",
       "\n",
       "\n",
       "       [[[0.54098347, 0.64915783, 0.73632378, ..., 0.82139975,\n",
       "          0.87776996, 0.29976857],\n",
       "         [0.85861205, 0.98329687, 0.84070599, ..., 0.28526695,\n",
       "          0.11154638, 0.16734321]],\n",
       "\n",
       "        [[0.94745242, 0.35378947, 0.7730972 , ..., 0.99903171,\n",
       "          0.53975537, 0.24213041],\n",
       "         [0.52933596, 0.86458695, 0.39340582, ..., 0.82477502,\n",
       "          0.70446257, 0.44460968]],\n",
       "\n",
       "        [[0.19773398, 0.31496531, 0.03658238, ..., 0.4755844 ,\n",
       "          0.51371181, 0.1194433 ],\n",
       "         [0.55469052, 0.62652457, 0.86159756, ..., 0.01756979,\n",
       "          0.06388858, 0.42621035]]]])"
      ]
     },
     "execution_count": 75,
     "metadata": {},
     "output_type": "execute_result"
    }
   ],
   "source": [
    "p1[:,]"
   ]
  },
  {
   "cell_type": "code",
   "execution_count": 263,
   "metadata": {},
   "outputs": [],
   "source": [
    "avg_player_1 = np.mean(p1[np.argsort(f1)[-10:]], axis = 0)"
   ]
  },
  {
   "cell_type": "code",
   "execution_count": 264,
   "metadata": {},
   "outputs": [
    {
     "name": "stdout",
     "output_type": "stream",
     "text": [
      "Card \t      a0 prob \t      a2 prob\n",
      "  0\t|\t51%\t|\t59%\n",
      "  1\t|\t66%\t|\t53%\n",
      "  2\t|\t40%\t|\t79%\n"
     ]
    }
   ],
   "source": [
    "print_player(player_1)"
   ]
  },
  {
   "cell_type": "code",
   "execution_count": 320,
   "metadata": {},
   "outputs": [
    {
     "name": "stdout",
     "output_type": "stream",
     "text": [
      "10 0.00805362111111111\n",
      "100 0.0007005308444444443\n",
      "500 0.00010311463599999995\n"
     ]
    },
    {
     "ename": "KeyboardInterrupt",
     "evalue": "",
     "output_type": "error",
     "traceback": [
      "\u001b[0;31m---------------------------------------------------------------------------\u001b[0m",
      "\u001b[0;31mKeyboardInterrupt\u001b[0m                         Traceback (most recent call last)",
      "\u001b[0;32m<ipython-input-320-36122c331c3e>\u001b[0m in \u001b[0;36m<module>\u001b[0;34m()\u001b[0m\n\u001b[1;32m      5\u001b[0m     \u001b[0ms\u001b[0m \u001b[0;34m=\u001b[0m \u001b[0mnp\u001b[0m\u001b[0;34m.\u001b[0m\u001b[0mzeros\u001b[0m\u001b[0;34m(\u001b[0m\u001b[0;36m100\u001b[0m\u001b[0;34m)\u001b[0m\u001b[0;34m\u001b[0m\u001b[0m\n\u001b[1;32m      6\u001b[0m     \u001b[0;32mfor\u001b[0m \u001b[0mi\u001b[0m \u001b[0;32min\u001b[0m \u001b[0mrange\u001b[0m\u001b[0;34m(\u001b[0m\u001b[0;36m100\u001b[0m\u001b[0;34m)\u001b[0m\u001b[0;34m:\u001b[0m\u001b[0;34m\u001b[0m\u001b[0m\n\u001b[0;32m----> 7\u001b[0;31m         \u001b[0mf1\u001b[0m\u001b[0;34m,\u001b[0m\u001b[0mf2\u001b[0m \u001b[0;34m=\u001b[0m \u001b[0mevaluate\u001b[0m\u001b[0;34m(\u001b[0m\u001b[0mp1\u001b[0m\u001b[0;34m,\u001b[0m\u001b[0mp2\u001b[0m\u001b[0;34m,\u001b[0m\u001b[0mn_games\u001b[0m\u001b[0;34m)\u001b[0m\u001b[0;34m\u001b[0m\u001b[0m\n\u001b[0m\u001b[1;32m      8\u001b[0m         \u001b[0ms\u001b[0m\u001b[0;34m[\u001b[0m\u001b[0mi\u001b[0m\u001b[0;34m]\u001b[0m \u001b[0;34m=\u001b[0m \u001b[0mf2\u001b[0m\u001b[0;34m[\u001b[0m\u001b[0;36m0\u001b[0m\u001b[0;34m]\u001b[0m\u001b[0;34m\u001b[0m\u001b[0m\n\u001b[1;32m      9\u001b[0m     \u001b[0mv\u001b[0m\u001b[0;34m[\u001b[0m\u001b[0mj\u001b[0m\u001b[0;34m]\u001b[0m \u001b[0;34m=\u001b[0m \u001b[0mnp\u001b[0m\u001b[0;34m.\u001b[0m\u001b[0mvar\u001b[0m\u001b[0;34m(\u001b[0m\u001b[0ms\u001b[0m\u001b[0;34m)\u001b[0m\u001b[0;34m\u001b[0m\u001b[0m\n",
      "\u001b[0;31mKeyboardInterrupt\u001b[0m: "
     ]
    }
   ],
   "source": [
    "vec = [10,100,500,1000,2000,5000,10000]\n",
    "v = np.zeros(len(vec))\n",
    "\n",
    "for j,n_games in enumerate(vec):\n",
    "    s = np.zeros(100)\n",
    "    for i in range(100):\n",
    "        f1,f2 = evaluate(p1,p2,n_games)\n",
    "        s[i] = f2[0]\n",
    "    v[j] = np.var(s)\n",
    "    print(n_games, v[j])"
   ]
  },
  {
   "cell_type": "code",
   "execution_count": 306,
   "metadata": {},
   "outputs": [
    {
     "data": {
      "text/plain": [
       "0.10649636666666668"
      ]
     },
     "execution_count": 306,
     "metadata": {},
     "output_type": "execute_result"
    }
   ],
   "source": [
    "np.mean(s)"
   ]
  },
  {
   "cell_type": "code",
   "execution_count": 307,
   "metadata": {},
   "outputs": [
    {
     "data": {
      "text/plain": [
       "array([8.06321222e-03, 7.86377067e-04, 1.71218512e-04, 7.65482243e-05,\n",
       "       3.14833134e-05, 1.72068132e-05, 7.47784869e-06])"
      ]
     },
     "execution_count": 307,
     "metadata": {},
     "output_type": "execute_result"
    }
   ],
   "source": [
    "v"
   ]
  },
  {
   "cell_type": "code",
   "execution_count": 308,
   "metadata": {},
   "outputs": [
    {
     "data": {
      "text/plain": [
       "array([8.06321222e-02, 7.86377067e-03, 1.71218512e-03, 7.65482243e-04,\n",
       "       3.14833134e-04, 1.72068132e-04, 7.47784869e-05])"
      ]
     },
     "execution_count": 308,
     "metadata": {},
     "output_type": "execute_result"
    }
   ],
   "source": [
    "v/0.1"
   ]
  },
  {
   "cell_type": "code",
   "execution_count": null,
   "metadata": {},
   "outputs": [],
   "source": []
  }
 ],
 "metadata": {
  "kernelspec": {
   "display_name": "Python 3",
   "language": "python",
   "name": "python3"
  },
  "language_info": {
   "codemirror_mode": {
    "name": "ipython",
    "version": 3
   },
   "file_extension": ".py",
   "mimetype": "text/x-python",
   "name": "python",
   "nbconvert_exporter": "python",
   "pygments_lexer": "ipython3",
   "version": "3.6.6"
  }
 },
 "nbformat": 4,
 "nbformat_minor": 2
}
