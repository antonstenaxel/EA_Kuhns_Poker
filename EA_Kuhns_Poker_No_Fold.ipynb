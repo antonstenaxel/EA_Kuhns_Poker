{
 "cells": [
  {
   "cell_type": "code",
   "execution_count": 13,
   "metadata": {
    "collapsed": true
   },
   "outputs": [],
   "source": [
    "import numpy as np"
   ]
  },
  {
   "cell_type": "code",
   "execution_count": 14,
   "metadata": {
    "collapsed": true
   },
   "outputs": [],
   "source": [
    "N_CARDS = 3\n",
    "N_ACTIONS = 2\n",
    "N_GAMES = 10\n",
    "POPULATION_SIZE = 50\n",
    "TOURNAMENT_PROB = 0.6\n",
    "MUTATION_PROB = 0.2\n",
    "CREEP_RATE = 0.1\n",
    "CARDS = np.arange(N_CARDS)\n",
    "INDIVIDUALS = np.arange(POPULATION_SIZE)\n",
    "N_OPPONENTS = 10\n",
    "MAX_SCORE = N_GAMES*N_OPPONENTS*2"
   ]
  },
  {
   "cell_type": "code",
   "execution_count": 15,
   "metadata": {
    "collapsed": true
   },
   "outputs": [],
   "source": [
    "def compare_cards(c1, c2, score = 1):\n",
    "    if(c1 > c2): \n",
    "        return (score,-score)\n",
    "    else:\n",
    "        return (-score,score)"
   ]
  },
  {
   "cell_type": "markdown",
   "metadata": {},
   "source": [
    "<img src=\"kuhns_poker_no_fold.png\">"
   ]
  },
  {
   "cell_type": "code",
   "execution_count": 24,
   "metadata": {
    "collapsed": true
   },
   "outputs": [],
   "source": [
    "def play(p1, p2):\n",
    "\n",
    "    p1_card, p2_card =  np.random.permutation(CARDS)[:2]\n",
    "    p1_bets =  np.random.rand() < p1[2*p1_card]\n",
    "   \n",
    "    \n",
    "    if(p1_bets):\n",
    "        p2_bets = np.random.rand() < p1[2*p1_card]\n",
    "\n",
    "        if(p2_bets):\n",
    "            return compare_cards(p1_card, p2_card, score = 2)\n",
    "        elif(not p2_bets):\n",
    "            return (1,-1)\n",
    "        \n",
    "    elif(not p1_bets):\n",
    "        p2_bets = np.random.rand() < p1[2*p1_card+1]\n",
    "        \n",
    "        if(p2_bets):\n",
    "            p1_bets_again =  np.random.rand() < p1[2*p1_card+1]\n",
    "            \n",
    "            if(p1_bets_again):\n",
    "                return compare_cards(p1_card, p2_card, score = 2)\n",
    "            elif(not p1_bets_again):\n",
    "                return(1,-1)\n",
    "        \n",
    "        elif(not p2_bets):\n",
    "            return compare_cards(p1_card, p2_card, score = 1)\n"
   ]
  },
  {
   "cell_type": "code",
   "execution_count": 17,
   "metadata": {
    "collapsed": true
   },
   "outputs": [],
   "source": [
    "# NEED TO FIX:\n",
    "# Player two doesnt neccesarily face N_OPPONENTS opponents and therefore its max score is not the one used. \n",
    "# Player two's that happens to play alot of games will be unfairly beneficial\n",
    "\n",
    "def evaluate(population_1, population_2):\n",
    "    \n",
    "    fitness_1 = np.zeros(POPULATION_SIZE)\n",
    "    fitness_2 = np.zeros(POPULATION_SIZE) \n",
    "\n",
    "    for player in INDIVIDUALS:\n",
    "        for game in range(N_GAMES):\n",
    "            opponents = np.random.permutation(POPULATION_SIZE)[:N_OPPONENTS]\n",
    "            for opponent in opponents:\n",
    "                score = play(population_1[player], population_2[opponent])\n",
    "                fitness_1[player] += score[0]\n",
    "                fitness_2[opponent] += score[1]\n",
    "    \n",
    "\n",
    "    return (fitness_1/MAX_SCORE, fitness_2/MAX_SCORE)"
   ]
  },
  {
   "cell_type": "code",
   "execution_count": 18,
   "metadata": {
    "collapsed": true
   },
   "outputs": [],
   "source": [
    "def tournament_selection(population, fitness):\n",
    "    \n",
    "    p = np.random.permutation(POPULATION_SIZE)\n",
    "    \n",
    "    i1 = p[0]\n",
    "    i2 = p[1]\n",
    "    \n",
    "    if(fitness[i1] > fitness[i2]):\n",
    "        i_max = i1\n",
    "        i_min = i2\n",
    "    else:\n",
    "        i_max = i2\n",
    "        i_min = i1\n",
    "    \n",
    "    if(np.random.rand() < TOURNAMENT_PROB):\n",
    "        return i_max\n",
    "    else:\n",
    "        return i_min\n",
    "            \n",
    "def wheel_selection(population, fitness):\n",
    "    temp = fitness + np.min(fitness)\n",
    "    distribution = temp/np.sum(temp)\n",
    "    return np.random.choice(np.arange(POPULATION_SIZE), p= distribution)\n",
    "    "
   ]
  },
  {
   "cell_type": "code",
   "execution_count": 19,
   "metadata": {
    "collapsed": true
   },
   "outputs": [],
   "source": [
    "def crossover(individual_1, individual_2):\n",
    "    \n",
    "    crossover_point = np.random.randint(len(individual_1))\n",
    "\n",
    "    child_1 = np.concatenate((individual_1[:crossover_point],individual_2[crossover_point:]))\n",
    "    child_2 = np.concatenate((individual_2[:crossover_point],individual_1[crossover_point:]))\n",
    "    \n",
    "    return (child_1, child_2)"
   ]
  },
  {
   "cell_type": "code",
   "execution_count": 20,
   "metadata": {
    "collapsed": true
   },
   "outputs": [],
   "source": [
    "def mutate(individual):\n",
    "    \n",
    "    creeps = CREEP_RATE*individual*np.random.randn(len(individual))\n",
    "    mutations = (np.random.rand(len(individual)) < MUTATION_PROB)*creeps\n",
    "\n",
    "    return individual + mutations"
   ]
  },
  {
   "cell_type": "code",
   "execution_count": 25,
   "metadata": {},
   "outputs": [],
   "source": [
    "p1 = np.random.rand(POPULATION_SIZE, N_CARDS* N_ACTIONS)\n",
    "p2 = np.random.rand(POPULATION_SIZE, N_CARDS* N_ACTIONS)\n",
    "\n",
    "f1,f2 = evaluate(p1, p2)"
   ]
  },
  {
   "cell_type": "code",
   "execution_count": 26,
   "metadata": {},
   "outputs": [
    {
     "name": "stdout",
     "output_type": "stream",
     "text": [
      "Generation 0\n",
      "0.4 -- 0.02\n",
      "Generation 1\n",
      "0.365 -- 0.095\n",
      "Generation 2\n",
      "0.4 -- 0.02\n",
      "Generation 3\n",
      "0.37 -- 0.02\n",
      "Generation 4\n",
      "0.33 -- 0.02\n",
      "Generation 5\n",
      "0.355 -- 0.085\n",
      "Generation 6\n",
      "0.355 -- 0.03\n",
      "Generation 7\n",
      "0.405 -- 0.015\n",
      "Generation 8\n",
      "0.34 -- 0.135\n",
      "Generation 9\n",
      "0.395 -- 0.01\n",
      "Generation 10\n",
      "0.33 -- 0.055\n",
      "Generation 11\n",
      "0.395 -- 0.085\n",
      "Generation 12\n",
      "0.4 -- 0.065\n",
      "Generation 13\n",
      "0.375 -- 0.01\n",
      "Generation 14\n",
      "0.39 -- -0.02\n",
      "Generation 15\n",
      "0.375 -- 0.0\n",
      "Generation 16\n",
      "0.34 -- -0.03\n",
      "Generation 17\n",
      "0.36 -- -0.035\n",
      "Generation 18\n",
      "0.42 -- -0.01\n",
      "Generation 19\n",
      "0.39 -- -0.02\n",
      "Generation 20\n",
      "0.365 -- 0.0\n",
      "Generation 21\n",
      "0.4 -- 0.02\n",
      "Generation 22\n",
      "0.4 -- 0.0\n",
      "Generation 23\n",
      "0.42 -- -0.015\n",
      "Generation 24\n",
      "0.42 -- -0.045\n",
      "Generation 25\n",
      "0.405 -- 0.0\n",
      "Generation 26\n",
      "0.395 -- 0.01\n",
      "Generation 27\n",
      "0.34 -- -0.03\n",
      "Generation 28\n",
      "0.5 -- -0.04\n",
      "Generation 29\n",
      "0.43 -- -0.035\n",
      "Generation 30\n",
      "0.395 -- -0.015\n",
      "Generation 31\n",
      "0.385 -- -0.035\n",
      "Generation 32\n",
      "0.405 -- 0.04\n",
      "Generation 33\n",
      "0.475 -- -0.035\n",
      "Generation 34\n",
      "0.385 -- -0.03\n",
      "Generation 35\n",
      "0.355 -- -0.025\n",
      "Generation 36\n",
      "0.39 -- 0.01\n",
      "Generation 37\n",
      "0.415 -- -0.005\n",
      "Generation 38\n",
      "0.38 -- 0.03\n",
      "Generation 39\n",
      "0.425 -- -0.01\n",
      "Generation 40\n",
      "0.455 -- -0.1\n",
      "Generation 41\n",
      "0.39 -- -0.015\n",
      "Generation 42\n",
      "0.41 -- -0.01\n",
      "Generation 43\n",
      "0.375 -- 0.05\n",
      "Generation 44\n",
      "0.37 -- 0.025\n",
      "Generation 45\n",
      "0.49 -- -0.005\n",
      "Generation 46\n",
      "0.44 -- -0.015\n",
      "Generation 47\n",
      "0.36 -- -0.01\n",
      "Generation 48\n",
      "0.42 -- 0.025\n",
      "Generation 49\n",
      "0.435 -- 0.01\n",
      "Generation 50\n",
      "0.355 -- 0.0\n",
      "Generation 51\n",
      "0.405 -- 0.065\n",
      "Generation 52\n",
      "0.37 -- -0.055\n",
      "Generation 53\n",
      "0.45 -- -0.005\n",
      "Generation 54\n",
      "0.385 -- -0.05\n",
      "Generation 55\n",
      "0.455 -- 0.0\n",
      "Generation 56\n",
      "0.41 -- -0.055\n",
      "Generation 57\n",
      "0.375 -- -0.09\n",
      "Generation 58\n",
      "0.43 -- -0.035\n",
      "Generation 59\n",
      "0.385 -- -0.055\n",
      "Generation 60\n",
      "0.45 -- -0.055\n",
      "Generation 61\n",
      "0.39 -- -0.04\n",
      "Generation 62\n",
      "0.395 -- 0.0\n",
      "Generation 63\n",
      "0.4 -- -0.055\n",
      "Generation 64\n",
      "0.45 -- -0.085\n",
      "Generation 65\n",
      "0.455 -- -0.07\n",
      "Generation 66\n",
      "0.4 -- -0.045\n",
      "Generation 67\n",
      "0.44 -- -0.055\n",
      "Generation 68\n",
      "0.435 -- -0.005\n",
      "Generation 69\n",
      "0.43 -- -0.055\n",
      "Generation 70\n",
      "0.43 -- -0.09\n",
      "Generation 71\n",
      "0.47 -- -0.095\n",
      "Generation 72\n",
      "0.41 -- -0.08\n",
      "Generation 73\n",
      "0.44 -- -0.095\n",
      "Generation 74\n",
      "0.395 -- -0.095\n",
      "Generation 75\n",
      "0.455 -- -0.085\n",
      "Generation 76\n",
      "0.415 -- -0.055\n",
      "Generation 77\n",
      "0.435 -- -0.115\n",
      "Generation 78\n",
      "0.41 -- -0.13\n",
      "Generation 79\n",
      "0.51 -- -0.115\n",
      "Generation 80\n",
      "0.41 -- -0.12\n",
      "Generation 81\n",
      "0.465 -- -0.115\n",
      "Generation 82\n",
      "0.435 -- -0.145\n",
      "Generation 83\n",
      "0.395 -- -0.115\n",
      "Generation 84\n",
      "0.48 -- -0.11\n",
      "Generation 85\n",
      "0.435 -- -0.135\n",
      "Generation 86\n",
      "0.4 -- -0.055\n",
      "Generation 87\n",
      "0.465 -- -0.1\n",
      "Generation 88\n",
      "0.515 -- -0.11\n",
      "Generation 89\n",
      "0.43 -- -0.115\n",
      "Generation 90\n",
      "0.43 -- -0.1\n",
      "Generation 91\n",
      "0.425 -- -0.085\n",
      "Generation 92\n",
      "0.49 -- -0.08\n",
      "Generation 93\n",
      "0.445 -- -0.115\n",
      "Generation 94\n",
      "0.39 -- -0.115\n",
      "Generation 95\n",
      "0.425 -- -0.14\n",
      "Generation 96\n",
      "0.455 -- -0.11\n",
      "Generation 97\n",
      "0.45 -- -0.13\n",
      "Generation 98\n",
      "0.51 -- -0.065\n",
      "Generation 99\n",
      "0.445 -- -0.115\n"
     ]
    }
   ],
   "source": [
    "for generation in range(100):\n",
    "    print(\"Generation\", generation)\n",
    "    new_population_1 = np.zeros_like(p1)\n",
    "    new_population_2 = np.zeros_like(p2)\n",
    "    \n",
    "    for i in range(0,POPULATION_SIZE,2):\n",
    "        ind11 = tournament_selection(p1,f1)\n",
    "        ind12 = tournament_selection(p1,f1)\n",
    "        \n",
    "        ind21 = tournament_selection(p2,f2)\n",
    "        ind22 = tournament_selection(p2,f2)\n",
    "        \n",
    "        child_11, child_12 = crossover(p1[ind11], p2[ind12])\n",
    "        child_21, child_22 = crossover(p1[ind21], p2[ind22])\n",
    "        \n",
    "        child_11 = mutate(child_11)\n",
    "        child_12 = mutate(child_12)\n",
    "        child_21 = mutate(child_21)\n",
    "        child_22 = mutate(child_22)\n",
    "        \n",
    "        new_population_1[i] = child_11\n",
    "        new_population_1[i+1] = child_12\n",
    "        new_population_2[i] = child_21\n",
    "        new_population_2[i+1] = child_22\n",
    "        \n",
    "    best_indivudal_1 = np.argmax(f1)\n",
    "    best_indivudal_2 = np.argmax(f2)\n",
    "    \n",
    "    new_population_1[0] = p1[best_indivudal_1]\n",
    "    new_population_2[0] = p2[best_indivudal_2]\n",
    "    \n",
    "    \n",
    "    p1 = new_population_1\n",
    "    p2 = new_population_2\n",
    "    print(np.max(f1), \"--\" , np.max(f2))\n",
    "    f1,f2 = evaluate(p1,p2)\n"
   ]
  },
  {
   "cell_type": "code",
   "execution_count": 247,
   "metadata": {
    "collapsed": true
   },
   "outputs": [],
   "source": [
    "def print_player(player, first_player = True):\n",
    "    matrix = player.reshape(N_CARDS, N_ACTIONS)\n",
    "    \n",
    "    if(first_player):\n",
    "        print(\"Card \\t   First Action \\tSecond Action\")\n",
    "        print(\" \\t    R    Ch   F \\t   Ca   F\")\n",
    "        for card in range(N_CARDS):\n",
    "            print(\" \",card,\\\n",
    "                  \"  |  \",\\\n",
    "                  np.array2string(matrix[card,:3]/np.sum(matrix[card,:3]), precision=2), \\\n",
    "                  \"  |  \" ,\\\n",
    "                  np.array2string(matrix[card,3:]/np.sum(matrix[card,3:]), precision=2))\n",
    "    else:\n",
    "        print(\"Card \\t    If Raise \\t \\tIf Check\")\n",
    "        print(\" \\t  Ca   F  \\t      Ch    R    F\")\n",
    "        for card in range(N_CARDS):\n",
    "            print(\" \",card,\\\n",
    "                  \"  |\",\\\n",
    "                  np.array2string(matrix[card,:2]/np.sum(matrix[card,:2]), precision=2), \\\n",
    "                  \"\\t|  \" ,\\\n",
    "                  np.array2string(matrix[card,2:]/np.sum(matrix[card,2:]), precision=2))\n",
    "            \n",
    "        "
   ]
  },
  {
   "cell_type": "markdown",
   "metadata": {},
   "source": [
    "## Best player 1 strategy"
   ]
  },
  {
   "cell_type": "code",
   "execution_count": 225,
   "metadata": {},
   "outputs": [
    {
     "name": "stdout",
     "output_type": "stream",
     "text": [
      "Card \t   First Action \tSecond Action\n",
      " \t    R    Ch   F \t   Ca   F\n",
      "  0   |   [0.34 0.27 0.39]   |   [0.48 0.52]\n",
      "  1   |   [0.34 0.62 0.04]   |   [0.36 0.64]\n",
      "  2   |   [0.85 0.12 0.02]   |   [0.97 0.03]\n"
     ]
    }
   ],
   "source": [
    "print_player(p1[np.argmax(f1)], first_player = True)"
   ]
  },
  {
   "cell_type": "markdown",
   "metadata": {},
   "source": [
    "## Best player 2 strategy"
   ]
  },
  {
   "cell_type": "code",
   "execution_count": 248,
   "metadata": {},
   "outputs": [
    {
     "name": "stdout",
     "output_type": "stream",
     "text": [
      "Card \t    If Raise \t \tIf Check\n",
      " \t  Ca   F  \t      Ch    R    F\n",
      "  0   | [0.5 0.5] \t|   [0.41 0.43 0.16]\n",
      "  1   | [0.32 0.68] \t|   [0.1  0.2  0.69]\n",
      "  2   | [0.88 0.12] \t|   [0.07 0.92 0.01]\n"
     ]
    }
   ],
   "source": [
    "print_player(p2[np.argmax(f2)], first_player= False)"
   ]
  },
  {
   "cell_type": "markdown",
   "metadata": {},
   "source": [
    "<img src=\"kuhns_poker_no_fold.png\">"
   ]
  },
  {
   "cell_type": "markdown",
   "metadata": {},
   "source": [
    "Let best players face off"
   ]
  },
  {
   "cell_type": "code",
   "execution_count": 260,
   "metadata": {},
   "outputs": [
    {
     "name": "stdout",
     "output_type": "stream",
     "text": [
      "----- NEW GAME -----\n",
      "P1 Raises with card 2, P2 Calls with card 1\n",
      "Score:  (2, -2)\n",
      "\n",
      "----- NEW GAME -----\n",
      "P1 Raises with card 1, P2 Folds with card 0\n",
      "Score:  (1, -1)\n",
      "\n",
      "----- NEW GAME -----\n",
      "P1 Raises with card 2, P2 Folds with card 1\n",
      "Score:  (1, -1)\n",
      "\n",
      "----- NEW GAME -----\n",
      "P1 Raises with card 0, P2 Calls with card 1\n",
      "Score:  (-2, 2)\n",
      "\n",
      "----- NEW GAME -----\n",
      "P1 Fold with card 0, P2 had card 1\n",
      "Score:  (-1, 1)\n",
      "\n",
      "----- NEW GAME -----\n",
      "P1 Raises with card 0, P2 Folds with card 1\n",
      "Score:  (1, -1)\n",
      "\n",
      "----- NEW GAME -----\n",
      "P1 Fold with card 1, P2 had card 0\n",
      "Score:  (-1, 1)\n",
      "\n",
      "----- NEW GAME -----\n",
      "P1 Raises with card 2, P2 Folds with card 1\n",
      "Score:  (1, -1)\n",
      "\n",
      "----- NEW GAME -----\n",
      "P1 Fold with card 0, P2 had card 1\n",
      "Score:  (-1, 1)\n",
      "\n",
      "----- NEW GAME -----\n",
      "P1 Raises with card 0, P2 Folds with card 1\n",
      "Score:  (1, -1)\n",
      "\n"
     ]
    }
   ],
   "source": [
    "for game in range(10):\n",
    "    score = play(p1[np.argmax(f1)], p2[np.argmax(f2)], print_game = True)\n",
    "    print(\"Score: \", score)\n",
    "    print(\"\")"
   ]
  },
  {
   "cell_type": "code",
   "execution_count": 27,
   "metadata": {},
   "outputs": [
    {
     "data": {
      "text/plain": [
       "array([0.37809777, 0.15182482, 0.07488178, 0.36006961, 0.8102644 ,\n",
       "       0.92412887])"
      ]
     },
     "execution_count": 27,
     "metadata": {},
     "output_type": "execute_result"
    }
   ],
   "source": [
    "p1[np.argmax(f1)].reshape(3,2)"
   ]
  },
  {
   "cell_type": "code",
   "execution_count": null,
   "metadata": {
    "collapsed": true
   },
   "outputs": [],
   "source": []
  }
 ],
 "metadata": {
  "kernelspec": {
   "display_name": "Python 3",
   "language": "python",
   "name": "python3"
  },
  "language_info": {
   "codemirror_mode": {
    "name": "ipython",
    "version": 3
   },
   "file_extension": ".py",
   "mimetype": "text/x-python",
   "name": "python",
   "nbconvert_exporter": "python",
   "pygments_lexer": "ipython3",
   "version": "3.6.4"
  }
 },
 "nbformat": 4,
 "nbformat_minor": 2
}
